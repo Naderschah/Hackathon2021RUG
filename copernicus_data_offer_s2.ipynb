{
 "cells": [
  {
   "cell_type": "markdown",
   "metadata": {},
   "source": [
    "## In this notebook we will explore what data is offered by Copernicus Satellites Sentinel-2\n",
    "\n",
    "More detailed information can be found here: https://scihub.copernicus.eu/userguide/\n",
    "\n",
    "The technical guide can be found here: https://sentinels.copernicus.eu/web/sentinel/technical-guides/sentinel-2-msi\n",
    "\n",
    "And the user guide here: https://sentinel.esa.int/web/sentinel/user-guides/sentinel-2-msi"
   ]
  },
  {
   "cell_type": "markdown",
   "metadata": {},
   "source": [
    "### The data that we can access from Sentinel-2 is classified as\n",
    "\n",
    "- Level-1C: provides orthorectified Top-Of-Atmosphere (TOA) reflectance, with sub-pixel multispectral registration. Cloud and land/water masks are included in the product. \n",
    "\n",
    "- Level-2C: provides orthorectified Bottom-Of-Atmosphere (BOA) reflectance, with sub-pixel multispectral registration. A Scene Classification map (cloud, cloud shadows, vegetation, soils/deserts, water, snow, etc.) is included in the product.\n",
    "\n",
    "These products are processed by the Sentinel-2 ground segment"
   ]
  },
  {
   "cell_type": "markdown",
   "metadata": {},
   "source": [
    "All identifiers for the querry can be found here https://scihub.copernicus.eu/twiki/do/view/SciHubUserGuide/FullTextSearch?redirectedfrom=SciHubUserGuide.3FullTextSearch\n",
    "\n",
    "Within it you can also find the naming conventions"
   ]
  },
  {
   "cell_type": "code",
   "execution_count": 2,
   "metadata": {},
   "outputs": [],
   "source": [
    "# Here we will retrieve one example of each offered product level and display its quick look image\n",
    "from sentinelsat import SentinelAPI\n",
    "user = ''\n",
    "password = ''\n",
    "\n",
    "api = SentinelAPI(user, password, 'https://apihub.copernicus.eu/apihub')"
   ]
  },
  {
   "cell_type": "code",
   "execution_count": 2,
   "metadata": {},
   "outputs": [
    {
     "name": "stderr",
     "output_type": "stream",
     "text": [
      "Querying products: 100%|██████████| 185642/185642 [14:59<00:00, 206.39product/s]\n",
      "Downloading S2A_MSIL1C_20210801T182921_N0301_R027_T11RNQ_20210801T220817.zip: 100%|██████████| 10.5M/10.5M [00:25<00:00, 416kB/s]\n",
      "                                                             "
     ]
    },
    {
     "name": "stdout",
     "output_type": "stream",
     "text": [
      "The File Name is S2A_MSIL1C_20210801T182921_N0301_R027_T11RNQ_20210801T220817.SAFE\n"
     ]
    },
    {
     "name": "stderr",
     "output_type": "stream",
     "text": []
    }
   ],
   "source": [
    "# Level 1C\n",
    "        # TODO: This wont work i have to select all available databases, just give basic opening instructions, or are all datasets in here\n",
    "# This querry will look for products from the Sentinel 2A satelite S2A, from level 1C MSIL1C, we add a start date so less products get querried and then the wildcard *\n",
    "products = api.query(platformname = 'Sentinel-2',\n",
    "                     filename='S2A_MSIL1C_202108*')\n",
    "\n",
    "# We will use sort according to size and then download the first dataset that is not in the Long Term Archive (These must be requested 30 min in advance)\n",
    "try:\n",
    "    df = api.to_dataframe(products).sort_values(['size'], ascending=[True])\n",
    "except:\n",
    "    print('Size not specified')\n",
    "    df = api.to_dataframe(products).sort_values(['size'], ascending=[True])\n",
    "\n",
    "for i in range(len(df)):\n",
    "    #Check if resource is online\n",
    "    if api.is_online('{}'.format(df.index[i])):\n",
    "        api.download('{}'.format(df.index[i]))\n",
    "        #And break the i loop\n",
    "        break\n",
    "    else: pass\n",
    "\n",
    "print('The File Name is {}'.format(df.iloc[i]['filename']))"
   ]
  },
  {
   "cell_type": "code",
   "execution_count": 4,
   "metadata": {},
   "outputs": [],
   "source": [
    "# We will now give basic instructions and further reference to open the data\n",
    "\n",
    "import zipfile\n",
    "\n",
    "with zipfile.ZipFile('S2A_MSIL1C_20210801T182921_N0301_R027_T11RNQ_20210801T220817.SAFE'.replace('.SAFE','.zip')) as z:\n",
    "    z.extractall()\n"
   ]
  },
  {
   "cell_type": "code",
   "execution_count": 28,
   "metadata": {},
   "outputs": [
    {
     "name": "stdout",
     "output_type": "stream",
     "text": [
      "None\n"
     ]
    }
   ],
   "source": [
    "# This returned Top-Of-Atmosphere reflectances in cartographic geometry\n",
    "\n",
    "# These are 100x100 km2 ortho-images in UTM/WGS84 projection\n",
    "# They are stored in jp2 (jpeg-2000) format \n",
    "\n",
    "#Loading the AUX_DATA\n",
    "import numpy as np\n",
    "import os\n",
    "#Loading the image data\n",
    "import rasterio\n",
    "import numpy as np\n",
    "\n",
    "arrs = []\n",
    "jp2s = []\n",
    "\n",
    "# Get all the files paths\n",
    "for root, dirs, files in os.walk('./S2A_MSIL1C_20210801T182921_N0301_R027_T11RNQ_20210801T220817.SAFE/GRANULE/L1C_T11RNQ_A031913_20210801T184255/IMG_DATA'):\n",
    "    #Iterate over files in base directory\n",
    "    for i in files:\n",
    "        jp2s.append(os.path.join(root, i))\n",
    "    #Break so no other directories within get iterated upon\n",
    "    break\n",
    "\n",
    "#Load them with rasterio\n",
    "for jp2 in jp2s:\n",
    "    arrs.append(rasterio.open(jp2,'r+'))\n",
    "    break\n",
    "\n",
    "data = np.array(arrs)\n",
    "\n",
    "# To go further use the dir() method on the elements of data or check rasterio config for further options"
   ]
  },
  {
   "cell_type": "code",
   "execution_count": 4,
   "metadata": {},
   "outputs": [
    {
     "name": "stderr",
     "output_type": "stream",
     "text": [
      "Querying products: 100%|██████████| 196695/196695 [15:47<00:00, 207.47product/s]\n",
      "Downloading S2B_MSIL2A_20210804T144729_N0301_R139_T20PPB_20210804T170445.zip: 100%|██████████| 1.07G/1.07G [34:32<00:00, 518kB/s]\n"
     ]
    },
    {
     "name": "stdout",
     "output_type": "stream",
     "text": [
      "The File Name is S2B_MSIL2A_20210804T144729_N0301_R139_T20PPB_20210804T170445.SAFE\n"
     ]
    }
   ],
   "source": [
    "# Level 2A\n",
    "\n",
    "# This querry will look for products from the Sentinel 2B satelite S2B, from level 2A MSIL2A, and we dont care about the rest so * \n",
    "products = api.query(platformname = 'Sentinel-2',\n",
    "                     filename='S2B_MSIL2A_202108*')\n",
    "\n",
    "# We will use sort according to size and then download the first dataset that is not in the Long Term Archive (These must be requested 30 min in advance)\n",
    "try:\n",
    "    df = api.to_dataframe(products).sort_values(['size'], ascending=[True])\n",
    "except:\n",
    "    print('Size not specified')\n",
    "for i in range(len(df)):\n",
    "    #Check if resource is online\n",
    "    if api.is_online('{}'.format(df.index[i])):\n",
    "        api.download('{}'.format(df.index[i]))\n",
    "        #And break the i loop\n",
    "        break\n",
    "    else: pass\n",
    "\n",
    "print('The File Name is {}'.format(df.iloc[i]['filename']))"
   ]
  },
  {
   "cell_type": "code",
   "execution_count": 6,
   "metadata": {},
   "outputs": [],
   "source": [
    "# We will now give basic instructions and further reference to open the data\n",
    "\n",
    "import zipfile\n",
    "\n",
    "with zipfile.ZipFile('S2B_MSIL2A_20210804T144729_N0301_R139_T20PPB_20210804T170445.SAFE'.replace('.SAFE','.zip')) as z:\n",
    "    z.extractall()"
   ]
  },
  {
   "cell_type": "markdown",
   "metadata": {},
   "source": [
    "For processing this data I will refer you to user product 1C as these are also jp2 files, but further processed\n",
    "\n",
    "Do note that the folder structure within IMG_DATA is different"
   ]
  }
 ],
 "metadata": {
  "interpreter": {
   "hash": "5072ffb4707905e9ac3e5bc077411b5debabf54916eb21a5fb84af926c735de7"
  },
  "kernelspec": {
   "display_name": "Python 3.8.8 64-bit ('base': conda)",
   "name": "python3"
  },
  "language_info": {
   "codemirror_mode": {
    "name": "ipython",
    "version": 3
   },
   "file_extension": ".py",
   "mimetype": "text/x-python",
   "name": "python",
   "nbconvert_exporter": "python",
   "pygments_lexer": "ipython3",
   "version": "3.8.8"
  },
  "orig_nbformat": 4
 },
 "nbformat": 4,
 "nbformat_minor": 2
}
