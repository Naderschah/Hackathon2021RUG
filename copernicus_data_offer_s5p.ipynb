{
 "cells": [
  {
   "cell_type": "markdown",
   "source": [
    "## In this notebook we will explore what data is offered by Copernicus Satellites Sentinel-5P\n",
    "\n",
    "Mission: https://sentinels.copernicus.eu/web/sentinel/missions/sentinel-5p\n",
    "\n",
    "User Guide: https://sentinel.esa.int/web/sentinel/user-guides/sentinel-5p-tropomi\n",
    "\n",
    "Technical Guide: https://sentinel.esa.int/web/sentinel/technical-guides/sentinel-5p/products-algorithms\n",
    "\n",
    "Querry Guide: https://scihub.copernicus.eu/twiki/do/view/SciHubUserGuide/FullTextSearch?redirectedfrom=SciHubUserGuide.3FullTextSearch"
   ],
   "metadata": {}
  },
  {
   "cell_type": "markdown",
   "source": [
    "### The data that we can access from Sentinel-5P\n",
    "\n",
    "Do note that this is pre operational data, so each data file needs to be downloaded individually\n",
    "\n",
    "- Level 1B:\n",
    "    - UV:\n",
    "        - L1B_RA_BD1: Spectral range: 270-300 nm : Radiance Product\n",
    "        - L1B_RA_BD2: Spectral range: 300-320 nm : Radiance Product\n",
    "    - UVIS:\n",
    "        - L1B_RA_BD3: Spectral range: 320-405 nm : Radiance Product\n",
    "        - L1B_RA_BD4: Spectral range: 405-500 nm : Radiance Product\n",
    "    - NIR:\n",
    "        - L1B_RA_BD5: Spectral range: 675-725 nm : Radiance Product\n",
    "        - L1B_RA_BD6: Spectral range: 725-775 nm : Radiance Product\n",
    "    - SWIR:\n",
    "        - L1B_RA_BD7: Spectral range: 2305-2345 nm : Radiance Product \n",
    "        - L1B_RA_BD8: Spectral range: 2345-2385 nm : Radiance Product\n",
    "    - UVN\n",
    "        - L1B_IR_UVN: Spectral range: 270-775 nm : Irradiance Product\n",
    "    - SWIR\n",
    "        - L1B_IR_SIR: Spectral range: 2305-2385 nm  : Irradiance Product\n",
    "    \n",
    "- Level 2\n",
    "    - L2__O3____: Ozone ($O_3$) total column\n",
    "    - L2__O3_TCL: Ozone ($O_3$) tropospheric column\n",
    "    - L2__O3__PR: Ozone ($O_3$) profile\n",
    "    - L2__NO2___: Nitrogen Dioxide ($NO_2$) total and tropospheric column\n",
    "    - L2__SO2___: Sulfur Dioxide ($SO_2$) total column\n",
    "    - L2__CO____: Carbon Monoxide ($CO$) total column\n",
    "    - L2__CH4___: Methane ($CH_4$) total column\n",
    "    - L2__HCHO__: Formaldehyde ($HCHO$) total column\n",
    "    - L2__CLOUD_: Cloud fraction, albedo, top pressure\n",
    "    - L2__AER_AI: UV Aerosol Index\n",
    "    - L2__AER_LH: Aerosol Layer Height (mid-level pressure)\n",
    "    - UV product: Surface Irradiance/erythemal dose\n",
    "    - L2__NP_BDx, x=3, 6, 7: Suomi-NPP VIIRS Clouds : Auxiliary product\n",
    "    - AUX_CTMFC: A-priori profile shapes for the NO2, HCHO and SO2 vertical column retrievals : Auxiliary product\n",
    "    - AUX_CTMANA: A-priori profile shapes for the NO2, HCHO and SO2 vertical column retrievals : Auxiliary product\n",
    "\t\n",
    "\n",
    "However as this is very new data, data retrieval is a bit harder (and cant be done on the standard Open Access Hub but on the Sentinel5p Open Access Hub), the sentinelsat package also does not work for sentinel-5p. I have seen examples of it working if you want to try, I have not managed so far to download the data using the API"
   ],
   "metadata": {}
  },
  {
   "cell_type": "markdown",
   "source": [
    "All identifiers for the querry can be found here https://scihub.copernicus.eu/twiki/do/view/SciHubUserGuide/FullTextSearch?redirectedfrom=SciHubUserGuide.3FullTextSearch\n",
    "\n",
    "Within it you can also find the naming conventions"
   ],
   "metadata": {}
  },
  {
   "cell_type": "code",
   "execution_count": 3,
   "source": [
    "# We will now open a dataset downloaded from https://s5phub.copernicus.eu/dhus/#/home\n",
    "\n",
    "import zipfile\n",
    "\n",
    "with zipfile.ZipFile('S2A_MSIL1C_20210801T182921_N0301_R027_T11RNQ_20210801T220817.SAFE'.replace('.SAFE','.zip')) as z:\n",
    "    z.extractall()\n"
   ],
   "outputs": [],
   "metadata": {}
  },
  {
   "cell_type": "markdown",
   "source": [
    "To access the data we will be using this package, it supports the netCTL structure\n",
    "\n",
    "https://stcorp.github.io/harp/doc/html/index.html"
   ],
   "metadata": {}
  },
  {
   "cell_type": "code",
   "execution_count": null,
   "source": [],
   "outputs": [],
   "metadata": {}
  }
 ],
 "metadata": {
  "orig_nbformat": 4,
  "language_info": {
   "name": "python",
   "version": "3.8.8",
   "mimetype": "text/x-python",
   "codemirror_mode": {
    "name": "ipython",
    "version": 3
   },
   "pygments_lexer": "ipython3",
   "nbconvert_exporter": "python",
   "file_extension": ".py"
  },
  "kernelspec": {
   "name": "python3",
   "display_name": "Python 3.8.8 64-bit ('base': conda)"
  },
  "interpreter": {
   "hash": "64ad0ea8d629f00d8168fc91b44a5de2d94c414bf842e4bc86698867624ffac1"
  }
 },
 "nbformat": 4,
 "nbformat_minor": 2
}