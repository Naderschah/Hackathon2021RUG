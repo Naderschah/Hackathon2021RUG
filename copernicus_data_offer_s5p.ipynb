{
 "cells": [
  {
   "cell_type": "markdown",
   "metadata": {},
   "source": [
    "## In this notebook we will explore what data is offered by Copernicus Satellites Sentinel-5P\n",
    "\n",
    "Mission: https://sentinels.copernicus.eu/web/sentinel/missions/sentinel-5p\n",
    "\n",
    "User Guide: https://sentinel.esa.int/web/sentinel/user-guides/sentinel-5p-tropomi\n",
    "\n",
    "Technical Guide: https://sentinel.esa.int/web/sentinel/technical-guides/sentinel-5p/products-algorithms\n",
    "\n",
    "Querry Guide: https://scihub.copernicus.eu/twiki/do/view/SciHubUserGuide/FullTextSearch?redirectedfrom=SciHubUserGuide.3FullTextSearch"
   ]
  },
  {
   "cell_type": "markdown",
   "metadata": {},
   "source": [
    "### The data that we can access from Sentinel-5P\n",
    "\n",
    "Do note that this is pre operational data, so each data file needs to be downloaded individually\n",
    "\n",
    "- Level 1B:\n",
    "    - UV:\n",
    "        - L1B_RA_BD1: Spectral range: 270-300 nm : Radiance Product\n",
    "        - L1B_RA_BD2: Spectral range: 300-320 nm : Radiance Product\n",
    "    - UVIS:\n",
    "        - L1B_RA_BD3: Spectral range: 320-405 nm : Radiance Product\n",
    "        - L1B_RA_BD4: Spectral range: 405-500 nm : Radiance Product\n",
    "    - NIR:\n",
    "        - L1B_RA_BD5: Spectral range: 675-725 nm : Radiance Product\n",
    "        - L1B_RA_BD6: Spectral range: 725-775 nm : Radiance Product\n",
    "    - SWIR:\n",
    "        - L1B_RA_BD7: Spectral range: 2305-2345 nm : Radiance Product \n",
    "        - L1B_RA_BD8: Spectral range: 2345-2385 nm : Radiance Product\n",
    "    - UVN\n",
    "        - L1B_IR_UVN: Spectral range: 270-775 nm : Irradiance Product\n",
    "    - SWIR\n",
    "        - L1B_IR_SIR: Spectral range: 2305-2385 nm  : Irradiance Product\n",
    "    \n",
    "- Level 2\n",
    "    - L2__O3____: Ozone ($O_3$) total column\n",
    "    - L2__O3_TCL: Ozone ($O_3$) tropospheric column\n",
    "    - L2__O3__PR: Ozone ($O_3$) profile\n",
    "    - L2__NO2___: Nitrogen Dioxide ($NO_2$) total and tropospheric column\n",
    "    - L2__SO2___: Sulfur Dioxide ($SO_2$) total column\n",
    "    - L2__CO____: Carbon Monoxide ($CO$) total column\n",
    "    - L2__CH4___: Methane ($CH_4$) total column\n",
    "    - L2__HCHO__: Formaldehyde ($HCHO$) total column\n",
    "    - L2__CLOUD_: Cloud fraction, albedo, top pressure\n",
    "    - L2__AER_AI: UV Aerosol Index\n",
    "    - L2__AER_LH: Aerosol Layer Height (mid-level pressure)\n",
    "    - UV product: Surface Irradiance/erythemal dose\n",
    "    - L2__NP_BDx, x=3, 6, 7: Suomi-NPP VIIRS Clouds : Auxiliary product\n",
    "    - AUX_CTMFC: A-priori profile shapes for the NO2, HCHO and SO2 vertical column retrievals : Auxiliary product\n",
    "    - AUX_CTMANA: A-priori profile shapes for the NO2, HCHO and SO2 vertical column retrievals : Auxiliary product\n",
    "\t\n",
    "\n",
    "However as this is very new data, data retrieval is a bit harder (and cant be done on the standard Open Access Hub but on the Sentinel5p Open Access Hub), the sentinelsat package also does not work for sentinel-5p. I have seen examples of it working if you want to try, I have not managed so far to download the data using the API"
   ]
  },
  {
   "cell_type": "markdown",
   "metadata": {},
   "source": [
    "All identifiers for the querry can be found here https://scihub.copernicus.eu/twiki/do/view/SciHubUserGuide/FullTextSearch?redirectedfrom=SciHubUserGuide.3FullTextSearch\n",
    "\n",
    "Within it you can also find the naming conventions"
   ]
  },
  {
   "cell_type": "code",
   "execution_count": 3,
   "metadata": {},
   "outputs": [],
   "source": [
    "# We will now open a dataset downloaded from https://s5phub.copernicus.eu/dhus/#/home\n",
    "\n",
    "import zipfile\n",
    "\n",
    "with zipfile.ZipFile('S2A_MSIL1C_20210801T182921_N0301_R027_T11RNQ_20210801T220817.SAFE'.replace('.SAFE','.zip')) as z:\n",
    "    z.extractall()\n"
   ]
  },
  {
   "cell_type": "code",
   "execution_count": null,
   "metadata": {},
   "outputs": [],
   "source": []
  }
 ],
 "metadata": {
  "interpreter": {
   "hash": "5072ffb4707905e9ac3e5bc077411b5debabf54916eb21a5fb84af926c735de7"
  },
  "kernelspec": {
   "display_name": "Python 3.8.8 64-bit ('base': conda)",
   "name": "python3"
  },
  "language_info": {
   "codemirror_mode": {
    "name": "ipython",
    "version": 3
   },
   "file_extension": ".py",
   "mimetype": "text/x-python",
   "name": "python",
   "nbconvert_exporter": "python",
   "pygments_lexer": "ipython3",
   "version": "3.8.8"
  },
  "orig_nbformat": 4
 },
 "nbformat": 4,
 "nbformat_minor": 2
}
