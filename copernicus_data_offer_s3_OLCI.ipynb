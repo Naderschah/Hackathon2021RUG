{
 "cells": [
  {
   "cell_type": "markdown",
   "source": [
    "## In this notebook we will explore what data is offered by Copernicus Satellites Sentinel-3 OLCI\n",
    "\n",
    "More detailed information can be found here: https://scihub.copernicus.eu/userguide/\n",
    "\n",
    "and here: https://sentinels.copernicus.eu/web/sentinel/user-guides/sentinel-3-altimetry/product-types"
   ],
   "metadata": {}
  },
  {
   "cell_type": "markdown",
   "source": [
    "## Sentinel 3 classification\n",
    "\n",
    "The Spacecraft carries four main instruments:\n",
    "- OLCI: Ocean and Land Colour Instrument\n",
    "- SLSTR: Sea and Land Surface Temperature Instrument\n",
    "- SRAL: SAR Radar Altimeter\n",
    "- MWR: Microwave Radiometer.\n",
    "\n",
    "\n",
    "Sentinel-3's Data Product is more Complex than the others, so user products are distributed in Product Dissemination Units (PDU), there are three defined types: \n",
    "- frame: Identified by a fixed coordinate system based in along-track coordinates and along-orbit cycle coordinates. Each frame is stepped by a constant time interval along this orbit.\n",
    "- stripe: A stripe either coincides with an acquisition dump or a defined time segment (one orbit, half an orbit,..). A special case is the Vegetation like product (VGT-P) which is a stripe mapped on a Plate Carrée geographical projection.\n",
    "- tile: Tiles are only defined for VGT 1 and 10 day synthesis product's, VGT-S1 (SY_2_VG1) and VGT-S10 (SY_2_V10)\n",
    "\n",
    "The general product structure is:\n",
    "\n",
    "[![Alt text](./images/S3_Product_Structure.jpg)](https://sentinels.copernicus.eu/web/sentinel/missions/sentinel-3/data-products)\n",
    "\n",
    "\n",
    "\n",
    "## Accessible data from Sentinel-3 OLCI:\n",
    "\n",
    "- Level-1B: provides radiances for each pixel in the instrument grid, each view and each OLCI channel, plus annotation data associated to OLCI pixels.\n",
    "    - OL_1_EFR: output during Earth Observation processing mode for Full Resolution at 300m spatial resolution\n",
    "    - OL_1_ERR: output during Earth Observation processing mode for Reduced Resolution at 1.2km spatial resolution\n",
    "- Level-2 Land: provides land and atmospheric geophysical parameters computed for full and Reduced Resolution.\n",
    "    - OL_2_LFR: Full Resolution at 300m spatial resolution\n",
    "    - OL_2_LRR: Reduced Resolution at 1.2km spatial resolution\n",
    "- Level-2 Water: provides water and atmospheric geophysical parameters computed for Full and Reduced Resolution.\n",
    "    - OL_2_WFR: Full Resolution at 300m spatial resolution\n",
    "    - OL_2_WRR: Reduced Resolution at 1.2km spatial resolution\n",
    "\n",
    "These can be withdrawn in two different timelines:\n",
    "- Near Real Time (NRT): delivery less than 3 hours after data acquisition\n",
    "- Non-Time Crititcal (NTC): delivery within 1 month after data acquisition\n",
    "\n",
    "These are respectively identified by the NR and NT suffix in their filename \n",
    "\n",
    "\n",
    "\n",
    "## Accessible data from Sentinel-3 SLSTR\n",
    "- Level-1B: provides radiance and brightness temperatures for each pixel in an image grid for each SLSTR channel and view\n",
    "- Level-2:\n",
    "    - WST: L2P sea surface temperature according to GHRSST specifications\n",
    "    - LST: Land surface temperatures\n",
    "    - FRP: Provides fire radiative power over land and water\n",
    "    - AOD: Provides aerosol optical depth over land and water\n",
    "\n",
    "These can be withdrawn in two different timelines:\n",
    "- Near Real Time (NRT): delivery less than 3 hours after data acquisition\n",
    "- Non-Time Crititcal (NTC): delivery within 1 month after data acquisition\n",
    "\n",
    "## Accessible data from Sentinel-3 Synergy\n",
    "The Syn products are a product of the OLCI and the SLSTR data\n",
    "\n",
    "- Level 2:\n",
    "    - SY_2_SYN__: Surface reflectance and aerosol parameters over land\n",
    "    - SY_2_VGP__: 1km Vegetation Like Product and Top of Atmosphere refelctance\n",
    "    - SY_2_VGK__: Surface reflectance over land (input for VG-S product)\n",
    "    - SY_2_VG1__: 1km Vegetation Like Product 1 day synthesis surface reflectance and NDVI\n",
    "    - SY_2_V10__: 1km Vegetation Like Product 10 day synthesis surface reflectance and NDVI\n",
    "    - SY_2_AOD__: Global Aerosol parameter over land and sea on super pixel resolution (4.5km x 4.5km)\n",
    "\n",
    "## Accessible data from Sentinel-3 Altimetry\n",
    "\n",
    "- Level 1A: geo-located bursts of echo with callibrations applied\n",
    "- Level 1B: geo-located and fully calibrated multi-looked High Resolution power echoes\n",
    "- Level 1B-S: SAR processed and calibrated High resolution complex echoes arranged in stacks after slant range correction and prior to echo multi-look\n",
    "- Level 2: SRAL/MWR\n",
    "\n",
    "[![Alt text](./images/s3_SRAL_MWR.jpeg)](https://sentinels.copernicus.eu/web/sentinel/user-guides/sentinel-3-altimetry/product-types/level-2-sral-mwr)\n",
    "\n"
   ],
   "metadata": {}
  },
  {
   "cell_type": "markdown",
   "source": [
    "All identifiers for the querry can be found here https://scihub.copernicus.eu/twiki/do/view/SciHubUserGuide/FullTextSearch?redirectedfrom=SciHubUserGuide.3FullTextSearch\n",
    "\n",
    "Within it you can also find the naming conventions"
   ],
   "metadata": {}
  },
  {
   "cell_type": "markdown",
   "source": [
    "## Sentinel-3 OLCI"
   ],
   "metadata": {}
  },
  {
   "cell_type": "code",
   "execution_count": 1,
   "source": [
    "# Here we will retrieve one example of each offered product level and display its quick look image\n",
    "from sentinelsat import SentinelAPI\n",
    "user = ''\n",
    "password = ''\n",
    "\n",
    "api = SentinelAPI(user, password, 'https://apihub.copernicus.eu/apihub')"
   ],
   "outputs": [],
   "metadata": {}
  },
  {
   "cell_type": "code",
   "execution_count": 6,
   "source": [
    "# Level 1B: EFR \n",
    "\n",
    "# This querry will look for products from the Sentinel 3A satelite S3A, OL refers to OLCI, 1 refers to the product level, next is the Data Type ID EFR___, and then again year and wildcard to narrow down the search\n",
    "products = api.query(platformname = 'Sentinel-3',\n",
    "                     filename='S3A_OL_1_EFR____2021*')\n",
    "\n",
    "# We will use sort according to size and then download the first dataset that is not in the Long Term Archive (These must be requested 30 min in advance)\n",
    "try:\n",
    "    df = api.to_dataframe(products).sort_values(['size'], ascending=[True])\n",
    "except:\n",
    "    df = api.to_dataframe(products)\n",
    "    print('Size not specified')\n",
    "for i in range(len(df)):\n",
    "    #Check if resource is online\n",
    "    if api.is_online('{}'.format(df.index[i])):\n",
    "        api.download('{}'.format(df.index[i]))\n",
    "        #And break the i loop\n",
    "        break\n",
    "    else: pass\n",
    "\n",
    "print('The File Name is {}'.format(df.iloc[i]['filename']))"
   ],
   "outputs": [
    {
     "output_type": "stream",
     "name": "stderr",
     "text": [
      "Querying products: 69409product [07:24, 155.98product/s]                      \n",
      "Downloading S3A_OL_1_EFR____20210922T161044_20210922T161044_20210922T183015_0000_076_311_1440_LN1_O_NR_002.zip: 100%|██████████| 843k/843k [00:01<00:00, 640kB/s]\n",
      "                                                            "
     ]
    },
    {
     "output_type": "stream",
     "name": "stdout",
     "text": [
      "The File Name is S3A_OL_1_EFR____20210922T161044_20210922T161044_20210922T183015_0000_076_311_1440_LN1_O_NR_002.SEN3\n"
     ]
    },
    {
     "output_type": "stream",
     "name": "stderr",
     "text": []
    }
   ],
   "metadata": {}
  },
  {
   "cell_type": "code",
   "execution_count": null,
   "source": [
    "# Now we will display the quick-look image\n",
    "\n",
    "# TODO: "
   ],
   "outputs": [
    {
     "output_type": "execute_result",
     "data": {
      "text/html": [
       "<div>\n",
       "<style scoped>\n",
       "    .dataframe tbody tr th:only-of-type {\n",
       "        vertical-align: middle;\n",
       "    }\n",
       "\n",
       "    .dataframe tbody tr th {\n",
       "        vertical-align: top;\n",
       "    }\n",
       "\n",
       "    .dataframe thead th {\n",
       "        text-align: right;\n",
       "    }\n",
       "</style>\n",
       "<table border=\"1\" class=\"dataframe\">\n",
       "  <thead>\n",
       "    <tr style=\"text-align: right;\">\n",
       "      <th></th>\n",
       "      <th>title</th>\n",
       "      <th>link</th>\n",
       "      <th>link_alternative</th>\n",
       "      <th>link_icon</th>\n",
       "      <th>summary</th>\n",
       "      <th>ondemand</th>\n",
       "      <th>beginposition</th>\n",
       "      <th>endposition</th>\n",
       "      <th>ingestiondate</th>\n",
       "      <th>missiondatatakeid</th>\n",
       "      <th>...</th>\n",
       "      <th>instrumentname</th>\n",
       "      <th>instrumentshortname</th>\n",
       "      <th>productclass</th>\n",
       "      <th>polarisationmode</th>\n",
       "      <th>acquisitiontype</th>\n",
       "      <th>gmlfootprint</th>\n",
       "      <th>footprint</th>\n",
       "      <th>productconsolidation</th>\n",
       "      <th>uuid</th>\n",
       "      <th>processed</th>\n",
       "    </tr>\n",
       "  </thead>\n",
       "  <tbody>\n",
       "    <tr>\n",
       "      <th>cce95f8f-835a-49bf-b151-d08f1de69d5f</th>\n",
       "      <td>S1A_S1_RAW__0SDH_20210930T151231_20210930T1512...</td>\n",
       "      <td>https://apihub.copernicus.eu/apihub/odata/v1/P...</td>\n",
       "      <td>https://apihub.copernicus.eu/apihub/odata/v1/P...</td>\n",
       "      <td>https://apihub.copernicus.eu/apihub/odata/v1/P...</td>\n",
       "      <td>Date: 2021-09-30T15:12:31.754Z, Instrument: SA...</td>\n",
       "      <td>false</td>\n",
       "      <td>2021-09-30 15:12:31.754</td>\n",
       "      <td>2021-09-30 15:12:47.331</td>\n",
       "      <td>2021-09-30 15:54:30.063</td>\n",
       "      <td>309525</td>\n",
       "      <td>...</td>\n",
       "      <td>Synthetic Aperture Radar (C-band)</td>\n",
       "      <td>SAR-C SAR</td>\n",
       "      <td>S</td>\n",
       "      <td>HH HV</td>\n",
       "      <td>NOMINAL</td>\n",
       "      <td>&lt;gml:Polygon srsName=\"http://www.opengis.net/g...</td>\n",
       "      <td>MULTIPOLYGON (((46.0913 -12.8701, 46.8093 -12....</td>\n",
       "      <td>SLICE</td>\n",
       "      <td>cce95f8f-835a-49bf-b151-d08f1de69d5f</td>\n",
       "      <td>NaN</td>\n",
       "    </tr>\n",
       "  </tbody>\n",
       "</table>\n",
       "<p>1 rows × 35 columns</p>\n",
       "</div>"
      ],
      "text/plain": [
       "                                                                                  title  \\\n",
       "cce95f8f-835a-49bf-b151-d08f1de69d5f  S1A_S1_RAW__0SDH_20210930T151231_20210930T1512...   \n",
       "\n",
       "                                                                                   link  \\\n",
       "cce95f8f-835a-49bf-b151-d08f1de69d5f  https://apihub.copernicus.eu/apihub/odata/v1/P...   \n",
       "\n",
       "                                                                       link_alternative  \\\n",
       "cce95f8f-835a-49bf-b151-d08f1de69d5f  https://apihub.copernicus.eu/apihub/odata/v1/P...   \n",
       "\n",
       "                                                                              link_icon  \\\n",
       "cce95f8f-835a-49bf-b151-d08f1de69d5f  https://apihub.copernicus.eu/apihub/odata/v1/P...   \n",
       "\n",
       "                                                                                summary  \\\n",
       "cce95f8f-835a-49bf-b151-d08f1de69d5f  Date: 2021-09-30T15:12:31.754Z, Instrument: SA...   \n",
       "\n",
       "                                     ondemand           beginposition  \\\n",
       "cce95f8f-835a-49bf-b151-d08f1de69d5f    false 2021-09-30 15:12:31.754   \n",
       "\n",
       "                                                 endposition  \\\n",
       "cce95f8f-835a-49bf-b151-d08f1de69d5f 2021-09-30 15:12:47.331   \n",
       "\n",
       "                                               ingestiondate  \\\n",
       "cce95f8f-835a-49bf-b151-d08f1de69d5f 2021-09-30 15:54:30.063   \n",
       "\n",
       "                                      missiondatatakeid  ...  \\\n",
       "cce95f8f-835a-49bf-b151-d08f1de69d5f             309525  ...   \n",
       "\n",
       "                                                         instrumentname  \\\n",
       "cce95f8f-835a-49bf-b151-d08f1de69d5f  Synthetic Aperture Radar (C-band)   \n",
       "\n",
       "                                      instrumentshortname  productclass  \\\n",
       "cce95f8f-835a-49bf-b151-d08f1de69d5f            SAR-C SAR             S   \n",
       "\n",
       "                                      polarisationmode  acquisitiontype  \\\n",
       "cce95f8f-835a-49bf-b151-d08f1de69d5f             HH HV          NOMINAL   \n",
       "\n",
       "                                                                           gmlfootprint  \\\n",
       "cce95f8f-835a-49bf-b151-d08f1de69d5f  <gml:Polygon srsName=\"http://www.opengis.net/g...   \n",
       "\n",
       "                                                                              footprint  \\\n",
       "cce95f8f-835a-49bf-b151-d08f1de69d5f  MULTIPOLYGON (((46.0913 -12.8701, 46.8093 -12....   \n",
       "\n",
       "                                     productconsolidation  \\\n",
       "cce95f8f-835a-49bf-b151-d08f1de69d5f                SLICE   \n",
       "\n",
       "                                                                      uuid  \\\n",
       "cce95f8f-835a-49bf-b151-d08f1de69d5f  cce95f8f-835a-49bf-b151-d08f1de69d5f   \n",
       "\n",
       "                                     processed  \n",
       "cce95f8f-835a-49bf-b151-d08f1de69d5f       NaN  \n",
       "\n",
       "[1 rows x 35 columns]"
      ]
     },
     "metadata": {},
     "execution_count": 13
    }
   ],
   "metadata": {}
  },
  {
   "cell_type": "code",
   "execution_count": 22,
   "source": [
    "# Level 2: LFR \n",
    "\n",
    "# This querry will look for products from the Sentinel 3A  satelite S3A, from level 2,LFR___ data and then year to reduce the output and a wildcard *\n",
    "products = api.query(platformname = 'Sentinel-3',\n",
    "                     filename='S3A_OL_2_LFR____2020*')\n",
    "\n",
    "# We will use sort according to size and then download the first dataset that is not in the Long Term Archive (These must be requested 30 min in advance)\n",
    "try:\n",
    "    df = api.to_dataframe(products).sort_values(['size'], ascending=[True])\n",
    "except:\n",
    "    df = api.to_dataframe(products)\n",
    "    print('Size not specified')\n",
    "for i in range(len(df)):\n",
    "    #Check if resource is online\n",
    "    try:\n",
    "        if api.is_online('{}'.format(df.index[i])):\n",
    "            api.download('{}'.format(df.index[i]))\n",
    "            #And break the i loop\n",
    "            break\n",
    "        else: pass\n",
    "    except Exception as e:\n",
    "        print(e)\n",
    "\n",
    "print('The File Name is {}'.format(df.iloc[i]['filename']))"
   ],
   "outputs": [
    {
     "output_type": "stream",
     "name": "stdout",
     "text": [
      "Invalid key (a01c6a4c-3b7f-4805-b1a0-f24067c36756) to access Products\n"
     ]
    },
    {
     "output_type": "stream",
     "name": "stderr",
     "text": [
      "Downloading S3A_OL_2_LFR____20201219T091955_20201219T092255_20201220T141255_0179_066_207_2340_LN1_O_NT_002.zip: 100%|██████████| 107M/107M [03:07<00:00, 571kB/s]\n",
      "                                                                   "
     ]
    },
    {
     "output_type": "stream",
     "name": "stdout",
     "text": [
      "The File Name is S3A_OL_2_LFR____20201219T091955_20201219T092255_20201220T141255_0179_066_207_2340_LN1_O_NT_002.SEN3\n"
     ]
    },
    {
     "output_type": "stream",
     "name": "stderr",
     "text": []
    }
   ],
   "metadata": {}
  },
  {
   "cell_type": "code",
   "execution_count": null,
   "source": [
    "# Now we will display the quick-look image\n",
    "\n",
    "# TODO: "
   ],
   "outputs": [],
   "metadata": {}
  },
  {
   "cell_type": "code",
   "execution_count": 4,
   "source": [
    "# Level 2: WFR \n",
    "\n",
    "# This querry will look for products from the Sentinel 3A, from level 2A MSIL2A, and we dont care about the rest so * \n",
    "products = api.query(platformname = 'Sentinel-3',\n",
    "                     filename='S3B_OL_2_WFR____2020*')\n",
    "\n",
    "# We will use sort according to size and then download the first dataset that is not in the Long Term Archive (These must be requested 30 min in advance)\n",
    "try:\n",
    "    df = api.to_dataframe(products).sort_values(['size'], ascending=[True])\n",
    "except:\n",
    "    df = api.to_dataframe(products)\n",
    "    print('Size not specified')\n",
    "for i in range(len(df)):\n",
    "    #Check if resource is online\n",
    "    if api.is_online('{}'.format(df.index[i])):\n",
    "        api.download('{}'.format(df.index[i]))\n",
    "        #And break the i loop\n",
    "        break\n",
    "    else: pass\n",
    "\n",
    "print('The File Name is {}'.format(df.iloc[i]['filename']))"
   ],
   "outputs": [
    {
     "output_type": "stream",
     "name": "stdout",
     "text": [
      "Size not specified\n"
     ]
    },
    {
     "output_type": "error",
     "ename": "NameError",
     "evalue": "name 'i' is not defined",
     "traceback": [
      "\u001b[0;31m---------------------------------------------------------------------------\u001b[0m",
      "\u001b[0;31mNameError\u001b[0m                                 Traceback (most recent call last)",
      "\u001b[0;32m/tmp/ipykernel_836266/387609866.py\u001b[0m in \u001b[0;36m<module>\u001b[0;34m\u001b[0m\n\u001b[1;32m     19\u001b[0m     \u001b[0;32melse\u001b[0m\u001b[0;34m:\u001b[0m \u001b[0;32mpass\u001b[0m\u001b[0;34m\u001b[0m\u001b[0;34m\u001b[0m\u001b[0m\n\u001b[1;32m     20\u001b[0m \u001b[0;34m\u001b[0m\u001b[0m\n\u001b[0;32m---> 21\u001b[0;31m \u001b[0mprint\u001b[0m\u001b[0;34m(\u001b[0m\u001b[0;34m'The File Name is {}'\u001b[0m\u001b[0;34m.\u001b[0m\u001b[0mformat\u001b[0m\u001b[0;34m(\u001b[0m\u001b[0mdf\u001b[0m\u001b[0;34m.\u001b[0m\u001b[0miloc\u001b[0m\u001b[0;34m[\u001b[0m\u001b[0mi\u001b[0m\u001b[0;34m]\u001b[0m\u001b[0;34m[\u001b[0m\u001b[0;34m'filename'\u001b[0m\u001b[0;34m]\u001b[0m\u001b[0;34m)\u001b[0m\u001b[0;34m)\u001b[0m\u001b[0;34m\u001b[0m\u001b[0;34m\u001b[0m\u001b[0m\n\u001b[0m",
      "\u001b[0;31mNameError\u001b[0m: name 'i' is not defined"
     ]
    }
   ],
   "metadata": {}
  },
  {
   "cell_type": "markdown",
   "source": [
    "## Sentinel-3 SLSTR\n",
    "\n",
    "To reduce the amount of data in this notebook we will skip the 1B Product and go straight to the level 2 products\n",
    "\n",
    "- WST: L2P sea surface temperature according to GHRSST specifications\n",
    "- LST: Land surface temperatures\n",
    "- FRP: Provides fire radiative power over land and water\n",
    "- AOD: Provides aerosol optical depth over land and water\n",
    "\n"
   ],
   "metadata": {}
  },
  {
   "cell_type": "code",
   "execution_count": 5,
   "source": [
    "# Level 2: WST\n",
    "\n",
    "# This querry will look for products from the Sentinel 3A and 3B satelite S3_, from level 2, WST__ data, a year to reduce the output and a wildcard *\n",
    "products = api.query(platformname = 'Sentinel-3',\n",
    "                     filename='S3__SL_2_WST____2021*')\n",
    "\n",
    "# We will use sort according to size and then download the first dataset that is not in the Long Term Archive (These must be requested 30 min in advance)\n",
    "try:\n",
    "    df = api.to_dataframe(products).sort_values(['size'], ascending=[True])\n",
    "except:\n",
    "    df = api.to_dataframe(products)\n",
    "    print('Size not specified')\n",
    "for i in range(len(df)):\n",
    "    #Check if resource is online\n",
    "    if api.is_online('{}'.format(df.index[i])):\n",
    "        api.download('{}'.format(df.index[i]))\n",
    "        #And break the i loop\n",
    "        break\n",
    "    else: pass\n",
    "\n",
    "print('The File Name is {}'.format(df.iloc[i]['filename']))"
   ],
   "outputs": [
    {
     "output_type": "error",
     "ename": "KeyError",
     "evalue": "'size'",
     "traceback": [
      "\u001b[0;31m---------------------------------------------------------------------------\u001b[0m",
      "\u001b[0;31mKeyError\u001b[0m                                  Traceback (most recent call last)",
      "\u001b[0;32m/tmp/ipykernel_836266/3305073056.py\u001b[0m in \u001b[0;36m<module>\u001b[0;34m\u001b[0m\n\u001b[1;32m      8\u001b[0m \u001b[0;32mtry\u001b[0m\u001b[0;34m:\u001b[0m\u001b[0;34m\u001b[0m\u001b[0;34m\u001b[0m\u001b[0m\n\u001b[0;32m----> 9\u001b[0;31m     \u001b[0mdf\u001b[0m \u001b[0;34m=\u001b[0m \u001b[0mapi\u001b[0m\u001b[0;34m.\u001b[0m\u001b[0mto_dataframe\u001b[0m\u001b[0;34m(\u001b[0m\u001b[0mproducts\u001b[0m\u001b[0;34m)\u001b[0m\u001b[0;34m.\u001b[0m\u001b[0msort_values\u001b[0m\u001b[0;34m(\u001b[0m\u001b[0;34m[\u001b[0m\u001b[0;34m'size'\u001b[0m\u001b[0;34m]\u001b[0m\u001b[0;34m,\u001b[0m \u001b[0mascending\u001b[0m\u001b[0;34m=\u001b[0m\u001b[0;34m[\u001b[0m\u001b[0;32mTrue\u001b[0m\u001b[0;34m]\u001b[0m\u001b[0;34m)\u001b[0m\u001b[0;34m\u001b[0m\u001b[0;34m\u001b[0m\u001b[0m\n\u001b[0m\u001b[1;32m     10\u001b[0m \u001b[0;32mexcept\u001b[0m\u001b[0;34m:\u001b[0m\u001b[0;34m\u001b[0m\u001b[0;34m\u001b[0m\u001b[0m\n",
      "\u001b[0;32m~/anaconda3/lib/python3.8/site-packages/pandas/util/_decorators.py\u001b[0m in \u001b[0;36mwrapper\u001b[0;34m(*args, **kwargs)\u001b[0m\n\u001b[1;32m    310\u001b[0m                 )\n\u001b[0;32m--> 311\u001b[0;31m             \u001b[0;32mreturn\u001b[0m \u001b[0mfunc\u001b[0m\u001b[0;34m(\u001b[0m\u001b[0;34m*\u001b[0m\u001b[0margs\u001b[0m\u001b[0;34m,\u001b[0m \u001b[0;34m**\u001b[0m\u001b[0mkwargs\u001b[0m\u001b[0;34m)\u001b[0m\u001b[0;34m\u001b[0m\u001b[0;34m\u001b[0m\u001b[0m\n\u001b[0m\u001b[1;32m    312\u001b[0m \u001b[0;34m\u001b[0m\u001b[0m\n",
      "\u001b[0;32m~/anaconda3/lib/python3.8/site-packages/pandas/core/frame.py\u001b[0m in \u001b[0;36msort_values\u001b[0;34m(self, by, axis, ascending, inplace, kind, na_position, ignore_index, key)\u001b[0m\n\u001b[1;32m   6258\u001b[0m             \u001b[0mby\u001b[0m \u001b[0;34m=\u001b[0m \u001b[0mby\u001b[0m\u001b[0;34m[\u001b[0m\u001b[0;36m0\u001b[0m\u001b[0;34m]\u001b[0m\u001b[0;34m\u001b[0m\u001b[0;34m\u001b[0m\u001b[0m\n\u001b[0;32m-> 6259\u001b[0;31m             \u001b[0mk\u001b[0m \u001b[0;34m=\u001b[0m \u001b[0mself\u001b[0m\u001b[0;34m.\u001b[0m\u001b[0m_get_label_or_level_values\u001b[0m\u001b[0;34m(\u001b[0m\u001b[0mby\u001b[0m\u001b[0;34m,\u001b[0m \u001b[0maxis\u001b[0m\u001b[0;34m=\u001b[0m\u001b[0maxis\u001b[0m\u001b[0;34m)\u001b[0m\u001b[0;34m\u001b[0m\u001b[0;34m\u001b[0m\u001b[0m\n\u001b[0m\u001b[1;32m   6260\u001b[0m \u001b[0;34m\u001b[0m\u001b[0m\n",
      "\u001b[0;32m~/anaconda3/lib/python3.8/site-packages/pandas/core/generic.py\u001b[0m in \u001b[0;36m_get_label_or_level_values\u001b[0;34m(self, key, axis)\u001b[0m\n\u001b[1;32m   1778\u001b[0m         \u001b[0;32melse\u001b[0m\u001b[0;34m:\u001b[0m\u001b[0;34m\u001b[0m\u001b[0;34m\u001b[0m\u001b[0m\n\u001b[0;32m-> 1779\u001b[0;31m             \u001b[0;32mraise\u001b[0m \u001b[0mKeyError\u001b[0m\u001b[0;34m(\u001b[0m\u001b[0mkey\u001b[0m\u001b[0;34m)\u001b[0m\u001b[0;34m\u001b[0m\u001b[0;34m\u001b[0m\u001b[0m\n\u001b[0m\u001b[1;32m   1780\u001b[0m \u001b[0;34m\u001b[0m\u001b[0m\n",
      "\u001b[0;31mKeyError\u001b[0m: 'size'",
      "\nDuring handling of the above exception, another exception occurred:\n",
      "\u001b[0;31mKeyError\u001b[0m                                  Traceback (most recent call last)",
      "\u001b[0;32m/tmp/ipykernel_836266/3305073056.py\u001b[0m in \u001b[0;36m<module>\u001b[0;34m\u001b[0m\n\u001b[1;32m      9\u001b[0m     \u001b[0mdf\u001b[0m \u001b[0;34m=\u001b[0m \u001b[0mapi\u001b[0m\u001b[0;34m.\u001b[0m\u001b[0mto_dataframe\u001b[0m\u001b[0;34m(\u001b[0m\u001b[0mproducts\u001b[0m\u001b[0;34m)\u001b[0m\u001b[0;34m.\u001b[0m\u001b[0msort_values\u001b[0m\u001b[0;34m(\u001b[0m\u001b[0;34m[\u001b[0m\u001b[0;34m'size'\u001b[0m\u001b[0;34m]\u001b[0m\u001b[0;34m,\u001b[0m \u001b[0mascending\u001b[0m\u001b[0;34m=\u001b[0m\u001b[0;34m[\u001b[0m\u001b[0;32mTrue\u001b[0m\u001b[0;34m]\u001b[0m\u001b[0;34m)\u001b[0m\u001b[0;34m\u001b[0m\u001b[0;34m\u001b[0m\u001b[0m\n\u001b[1;32m     10\u001b[0m \u001b[0;32mexcept\u001b[0m\u001b[0;34m:\u001b[0m\u001b[0;34m\u001b[0m\u001b[0;34m\u001b[0m\u001b[0m\n\u001b[0;32m---> 11\u001b[0;31m     \u001b[0mdf\u001b[0m \u001b[0;34m=\u001b[0m \u001b[0mapi\u001b[0m\u001b[0;34m.\u001b[0m\u001b[0mto_dataframe\u001b[0m\u001b[0;34m(\u001b[0m\u001b[0mproducts\u001b[0m\u001b[0;34m)\u001b[0m\u001b[0;34m.\u001b[0m\u001b[0msort_values\u001b[0m\u001b[0;34m(\u001b[0m\u001b[0;34m[\u001b[0m\u001b[0;34m'size'\u001b[0m\u001b[0;34m]\u001b[0m\u001b[0;34m,\u001b[0m \u001b[0mascending\u001b[0m\u001b[0;34m=\u001b[0m\u001b[0;34m[\u001b[0m\u001b[0;32mTrue\u001b[0m\u001b[0;34m]\u001b[0m\u001b[0;34m)\u001b[0m\u001b[0;34m\u001b[0m\u001b[0;34m\u001b[0m\u001b[0m\n\u001b[0m\u001b[1;32m     12\u001b[0m     \u001b[0mprint\u001b[0m\u001b[0;34m(\u001b[0m\u001b[0;34m'Size not specified'\u001b[0m\u001b[0;34m)\u001b[0m\u001b[0;34m\u001b[0m\u001b[0;34m\u001b[0m\u001b[0m\n\u001b[1;32m     13\u001b[0m \u001b[0;32mfor\u001b[0m \u001b[0mi\u001b[0m \u001b[0;32min\u001b[0m \u001b[0mrange\u001b[0m\u001b[0;34m(\u001b[0m\u001b[0mlen\u001b[0m\u001b[0;34m(\u001b[0m\u001b[0mdf\u001b[0m\u001b[0;34m)\u001b[0m\u001b[0;34m)\u001b[0m\u001b[0;34m:\u001b[0m\u001b[0;34m\u001b[0m\u001b[0;34m\u001b[0m\u001b[0m\n",
      "\u001b[0;32m~/anaconda3/lib/python3.8/site-packages/pandas/util/_decorators.py\u001b[0m in \u001b[0;36mwrapper\u001b[0;34m(*args, **kwargs)\u001b[0m\n\u001b[1;32m    309\u001b[0m                     \u001b[0mstacklevel\u001b[0m\u001b[0;34m=\u001b[0m\u001b[0mstacklevel\u001b[0m\u001b[0;34m,\u001b[0m\u001b[0;34m\u001b[0m\u001b[0;34m\u001b[0m\u001b[0m\n\u001b[1;32m    310\u001b[0m                 )\n\u001b[0;32m--> 311\u001b[0;31m             \u001b[0;32mreturn\u001b[0m \u001b[0mfunc\u001b[0m\u001b[0;34m(\u001b[0m\u001b[0;34m*\u001b[0m\u001b[0margs\u001b[0m\u001b[0;34m,\u001b[0m \u001b[0;34m**\u001b[0m\u001b[0mkwargs\u001b[0m\u001b[0;34m)\u001b[0m\u001b[0;34m\u001b[0m\u001b[0;34m\u001b[0m\u001b[0m\n\u001b[0m\u001b[1;32m    312\u001b[0m \u001b[0;34m\u001b[0m\u001b[0m\n\u001b[1;32m    313\u001b[0m         \u001b[0;32mreturn\u001b[0m \u001b[0mwrapper\u001b[0m\u001b[0;34m\u001b[0m\u001b[0;34m\u001b[0m\u001b[0m\n",
      "\u001b[0;32m~/anaconda3/lib/python3.8/site-packages/pandas/core/frame.py\u001b[0m in \u001b[0;36msort_values\u001b[0;34m(self, by, axis, ascending, inplace, kind, na_position, ignore_index, key)\u001b[0m\n\u001b[1;32m   6257\u001b[0m \u001b[0;34m\u001b[0m\u001b[0m\n\u001b[1;32m   6258\u001b[0m             \u001b[0mby\u001b[0m \u001b[0;34m=\u001b[0m \u001b[0mby\u001b[0m\u001b[0;34m[\u001b[0m\u001b[0;36m0\u001b[0m\u001b[0;34m]\u001b[0m\u001b[0;34m\u001b[0m\u001b[0;34m\u001b[0m\u001b[0m\n\u001b[0;32m-> 6259\u001b[0;31m             \u001b[0mk\u001b[0m \u001b[0;34m=\u001b[0m \u001b[0mself\u001b[0m\u001b[0;34m.\u001b[0m\u001b[0m_get_label_or_level_values\u001b[0m\u001b[0;34m(\u001b[0m\u001b[0mby\u001b[0m\u001b[0;34m,\u001b[0m \u001b[0maxis\u001b[0m\u001b[0;34m=\u001b[0m\u001b[0maxis\u001b[0m\u001b[0;34m)\u001b[0m\u001b[0;34m\u001b[0m\u001b[0;34m\u001b[0m\u001b[0m\n\u001b[0m\u001b[1;32m   6260\u001b[0m \u001b[0;34m\u001b[0m\u001b[0m\n\u001b[1;32m   6261\u001b[0m             \u001b[0;31m# need to rewrap column in Series to apply key function\u001b[0m\u001b[0;34m\u001b[0m\u001b[0;34m\u001b[0m\u001b[0;34m\u001b[0m\u001b[0m\n",
      "\u001b[0;32m~/anaconda3/lib/python3.8/site-packages/pandas/core/generic.py\u001b[0m in \u001b[0;36m_get_label_or_level_values\u001b[0;34m(self, key, axis)\u001b[0m\n\u001b[1;32m   1777\u001b[0m             \u001b[0mvalues\u001b[0m \u001b[0;34m=\u001b[0m \u001b[0mself\u001b[0m\u001b[0;34m.\u001b[0m\u001b[0maxes\u001b[0m\u001b[0;34m[\u001b[0m\u001b[0maxis\u001b[0m\u001b[0;34m]\u001b[0m\u001b[0;34m.\u001b[0m\u001b[0mget_level_values\u001b[0m\u001b[0;34m(\u001b[0m\u001b[0mkey\u001b[0m\u001b[0;34m)\u001b[0m\u001b[0;34m.\u001b[0m\u001b[0m_values\u001b[0m\u001b[0;34m\u001b[0m\u001b[0;34m\u001b[0m\u001b[0m\n\u001b[1;32m   1778\u001b[0m         \u001b[0;32melse\u001b[0m\u001b[0;34m:\u001b[0m\u001b[0;34m\u001b[0m\u001b[0;34m\u001b[0m\u001b[0m\n\u001b[0;32m-> 1779\u001b[0;31m             \u001b[0;32mraise\u001b[0m \u001b[0mKeyError\u001b[0m\u001b[0;34m(\u001b[0m\u001b[0mkey\u001b[0m\u001b[0;34m)\u001b[0m\u001b[0;34m\u001b[0m\u001b[0;34m\u001b[0m\u001b[0m\n\u001b[0m\u001b[1;32m   1780\u001b[0m \u001b[0;34m\u001b[0m\u001b[0m\n\u001b[1;32m   1781\u001b[0m         \u001b[0;31m# Check for duplicates\u001b[0m\u001b[0;34m\u001b[0m\u001b[0;34m\u001b[0m\u001b[0;34m\u001b[0m\u001b[0m\n",
      "\u001b[0;31mKeyError\u001b[0m: 'size'"
     ]
    }
   ],
   "metadata": {}
  },
  {
   "cell_type": "code",
   "execution_count": null,
   "source": [
    "#TODO:"
   ],
   "outputs": [],
   "metadata": {}
  },
  {
   "cell_type": "code",
   "execution_count": 6,
   "source": [
    "# Level 2: LST\n",
    "\n",
    "# This querry will look for products from the Sentinel 3A and 3B satelite S3_, from level 2, LST__ data, a year to reduce the output and a wildcard *\n",
    "products = api.query(platformname = 'Sentinel-3',\n",
    "                     filename='S3__SL_2_LST____2021*')\n",
    "\n",
    "# We will use sort according to size and then download the first dataset that is not in the Long Term Archive (These must be requested 30 min in advance)\n",
    "try:\n",
    "    df = api.to_dataframe(products).sort_values(['size'], ascending=[True])\n",
    "except:\n",
    "    df = api.to_dataframe(products).sort_values(['size'], ascending=[True])\n",
    "    print('Size not specified')\n",
    "for i in range(len(df)):\n",
    "    #Check if resource is online\n",
    "    if api.is_online('{}'.format(df.index[i])):\n",
    "        api.download('{}'.format(df.index[i]))\n",
    "        #And break the i loop\n",
    "        break\n",
    "    else: pass\n",
    "\n",
    "print('The File Name is {}'.format(df.iloc[i]['filename']))"
   ],
   "outputs": [
    {
     "output_type": "error",
     "ename": "KeyError",
     "evalue": "'size'",
     "traceback": [
      "\u001b[0;31m---------------------------------------------------------------------------\u001b[0m",
      "\u001b[0;31mKeyError\u001b[0m                                  Traceback (most recent call last)",
      "\u001b[0;32m/tmp/ipykernel_836266/722773721.py\u001b[0m in \u001b[0;36m<module>\u001b[0;34m\u001b[0m\n\u001b[1;32m      8\u001b[0m \u001b[0;32mtry\u001b[0m\u001b[0;34m:\u001b[0m\u001b[0;34m\u001b[0m\u001b[0;34m\u001b[0m\u001b[0m\n\u001b[0;32m----> 9\u001b[0;31m     \u001b[0mdf\u001b[0m \u001b[0;34m=\u001b[0m \u001b[0mapi\u001b[0m\u001b[0;34m.\u001b[0m\u001b[0mto_dataframe\u001b[0m\u001b[0;34m(\u001b[0m\u001b[0mproducts\u001b[0m\u001b[0;34m)\u001b[0m\u001b[0;34m.\u001b[0m\u001b[0msort_values\u001b[0m\u001b[0;34m(\u001b[0m\u001b[0;34m[\u001b[0m\u001b[0;34m'size'\u001b[0m\u001b[0;34m]\u001b[0m\u001b[0;34m,\u001b[0m \u001b[0mascending\u001b[0m\u001b[0;34m=\u001b[0m\u001b[0;34m[\u001b[0m\u001b[0;32mTrue\u001b[0m\u001b[0;34m]\u001b[0m\u001b[0;34m)\u001b[0m\u001b[0;34m\u001b[0m\u001b[0;34m\u001b[0m\u001b[0m\n\u001b[0m\u001b[1;32m     10\u001b[0m \u001b[0;32mexcept\u001b[0m\u001b[0;34m:\u001b[0m\u001b[0;34m\u001b[0m\u001b[0;34m\u001b[0m\u001b[0m\n",
      "\u001b[0;32m~/anaconda3/lib/python3.8/site-packages/pandas/util/_decorators.py\u001b[0m in \u001b[0;36mwrapper\u001b[0;34m(*args, **kwargs)\u001b[0m\n\u001b[1;32m    310\u001b[0m                 )\n\u001b[0;32m--> 311\u001b[0;31m             \u001b[0;32mreturn\u001b[0m \u001b[0mfunc\u001b[0m\u001b[0;34m(\u001b[0m\u001b[0;34m*\u001b[0m\u001b[0margs\u001b[0m\u001b[0;34m,\u001b[0m \u001b[0;34m**\u001b[0m\u001b[0mkwargs\u001b[0m\u001b[0;34m)\u001b[0m\u001b[0;34m\u001b[0m\u001b[0;34m\u001b[0m\u001b[0m\n\u001b[0m\u001b[1;32m    312\u001b[0m \u001b[0;34m\u001b[0m\u001b[0m\n",
      "\u001b[0;32m~/anaconda3/lib/python3.8/site-packages/pandas/core/frame.py\u001b[0m in \u001b[0;36msort_values\u001b[0;34m(self, by, axis, ascending, inplace, kind, na_position, ignore_index, key)\u001b[0m\n\u001b[1;32m   6258\u001b[0m             \u001b[0mby\u001b[0m \u001b[0;34m=\u001b[0m \u001b[0mby\u001b[0m\u001b[0;34m[\u001b[0m\u001b[0;36m0\u001b[0m\u001b[0;34m]\u001b[0m\u001b[0;34m\u001b[0m\u001b[0;34m\u001b[0m\u001b[0m\n\u001b[0;32m-> 6259\u001b[0;31m             \u001b[0mk\u001b[0m \u001b[0;34m=\u001b[0m \u001b[0mself\u001b[0m\u001b[0;34m.\u001b[0m\u001b[0m_get_label_or_level_values\u001b[0m\u001b[0;34m(\u001b[0m\u001b[0mby\u001b[0m\u001b[0;34m,\u001b[0m \u001b[0maxis\u001b[0m\u001b[0;34m=\u001b[0m\u001b[0maxis\u001b[0m\u001b[0;34m)\u001b[0m\u001b[0;34m\u001b[0m\u001b[0;34m\u001b[0m\u001b[0m\n\u001b[0m\u001b[1;32m   6260\u001b[0m \u001b[0;34m\u001b[0m\u001b[0m\n",
      "\u001b[0;32m~/anaconda3/lib/python3.8/site-packages/pandas/core/generic.py\u001b[0m in \u001b[0;36m_get_label_or_level_values\u001b[0;34m(self, key, axis)\u001b[0m\n\u001b[1;32m   1778\u001b[0m         \u001b[0;32melse\u001b[0m\u001b[0;34m:\u001b[0m\u001b[0;34m\u001b[0m\u001b[0;34m\u001b[0m\u001b[0m\n\u001b[0;32m-> 1779\u001b[0;31m             \u001b[0;32mraise\u001b[0m \u001b[0mKeyError\u001b[0m\u001b[0;34m(\u001b[0m\u001b[0mkey\u001b[0m\u001b[0;34m)\u001b[0m\u001b[0;34m\u001b[0m\u001b[0;34m\u001b[0m\u001b[0m\n\u001b[0m\u001b[1;32m   1780\u001b[0m \u001b[0;34m\u001b[0m\u001b[0m\n",
      "\u001b[0;31mKeyError\u001b[0m: 'size'",
      "\nDuring handling of the above exception, another exception occurred:\n",
      "\u001b[0;31mKeyError\u001b[0m                                  Traceback (most recent call last)",
      "\u001b[0;32m/tmp/ipykernel_836266/722773721.py\u001b[0m in \u001b[0;36m<module>\u001b[0;34m\u001b[0m\n\u001b[1;32m      9\u001b[0m     \u001b[0mdf\u001b[0m \u001b[0;34m=\u001b[0m \u001b[0mapi\u001b[0m\u001b[0;34m.\u001b[0m\u001b[0mto_dataframe\u001b[0m\u001b[0;34m(\u001b[0m\u001b[0mproducts\u001b[0m\u001b[0;34m)\u001b[0m\u001b[0;34m.\u001b[0m\u001b[0msort_values\u001b[0m\u001b[0;34m(\u001b[0m\u001b[0;34m[\u001b[0m\u001b[0;34m'size'\u001b[0m\u001b[0;34m]\u001b[0m\u001b[0;34m,\u001b[0m \u001b[0mascending\u001b[0m\u001b[0;34m=\u001b[0m\u001b[0;34m[\u001b[0m\u001b[0;32mTrue\u001b[0m\u001b[0;34m]\u001b[0m\u001b[0;34m)\u001b[0m\u001b[0;34m\u001b[0m\u001b[0;34m\u001b[0m\u001b[0m\n\u001b[1;32m     10\u001b[0m \u001b[0;32mexcept\u001b[0m\u001b[0;34m:\u001b[0m\u001b[0;34m\u001b[0m\u001b[0;34m\u001b[0m\u001b[0m\n\u001b[0;32m---> 11\u001b[0;31m     \u001b[0mdf\u001b[0m \u001b[0;34m=\u001b[0m \u001b[0mapi\u001b[0m\u001b[0;34m.\u001b[0m\u001b[0mto_dataframe\u001b[0m\u001b[0;34m(\u001b[0m\u001b[0mproducts\u001b[0m\u001b[0;34m)\u001b[0m\u001b[0;34m.\u001b[0m\u001b[0msort_values\u001b[0m\u001b[0;34m(\u001b[0m\u001b[0;34m[\u001b[0m\u001b[0;34m'size'\u001b[0m\u001b[0;34m]\u001b[0m\u001b[0;34m,\u001b[0m \u001b[0mascending\u001b[0m\u001b[0;34m=\u001b[0m\u001b[0;34m[\u001b[0m\u001b[0;32mTrue\u001b[0m\u001b[0;34m]\u001b[0m\u001b[0;34m)\u001b[0m\u001b[0;34m\u001b[0m\u001b[0;34m\u001b[0m\u001b[0m\n\u001b[0m\u001b[1;32m     12\u001b[0m     \u001b[0mprint\u001b[0m\u001b[0;34m(\u001b[0m\u001b[0;34m'Size not specified'\u001b[0m\u001b[0;34m)\u001b[0m\u001b[0;34m\u001b[0m\u001b[0;34m\u001b[0m\u001b[0m\n\u001b[1;32m     13\u001b[0m \u001b[0;32mfor\u001b[0m \u001b[0mi\u001b[0m \u001b[0;32min\u001b[0m \u001b[0mrange\u001b[0m\u001b[0;34m(\u001b[0m\u001b[0mlen\u001b[0m\u001b[0;34m(\u001b[0m\u001b[0mdf\u001b[0m\u001b[0;34m)\u001b[0m\u001b[0;34m)\u001b[0m\u001b[0;34m:\u001b[0m\u001b[0;34m\u001b[0m\u001b[0;34m\u001b[0m\u001b[0m\n",
      "\u001b[0;32m~/anaconda3/lib/python3.8/site-packages/pandas/util/_decorators.py\u001b[0m in \u001b[0;36mwrapper\u001b[0;34m(*args, **kwargs)\u001b[0m\n\u001b[1;32m    309\u001b[0m                     \u001b[0mstacklevel\u001b[0m\u001b[0;34m=\u001b[0m\u001b[0mstacklevel\u001b[0m\u001b[0;34m,\u001b[0m\u001b[0;34m\u001b[0m\u001b[0;34m\u001b[0m\u001b[0m\n\u001b[1;32m    310\u001b[0m                 )\n\u001b[0;32m--> 311\u001b[0;31m             \u001b[0;32mreturn\u001b[0m \u001b[0mfunc\u001b[0m\u001b[0;34m(\u001b[0m\u001b[0;34m*\u001b[0m\u001b[0margs\u001b[0m\u001b[0;34m,\u001b[0m \u001b[0;34m**\u001b[0m\u001b[0mkwargs\u001b[0m\u001b[0;34m)\u001b[0m\u001b[0;34m\u001b[0m\u001b[0;34m\u001b[0m\u001b[0m\n\u001b[0m\u001b[1;32m    312\u001b[0m \u001b[0;34m\u001b[0m\u001b[0m\n\u001b[1;32m    313\u001b[0m         \u001b[0;32mreturn\u001b[0m \u001b[0mwrapper\u001b[0m\u001b[0;34m\u001b[0m\u001b[0;34m\u001b[0m\u001b[0m\n",
      "\u001b[0;32m~/anaconda3/lib/python3.8/site-packages/pandas/core/frame.py\u001b[0m in \u001b[0;36msort_values\u001b[0;34m(self, by, axis, ascending, inplace, kind, na_position, ignore_index, key)\u001b[0m\n\u001b[1;32m   6257\u001b[0m \u001b[0;34m\u001b[0m\u001b[0m\n\u001b[1;32m   6258\u001b[0m             \u001b[0mby\u001b[0m \u001b[0;34m=\u001b[0m \u001b[0mby\u001b[0m\u001b[0;34m[\u001b[0m\u001b[0;36m0\u001b[0m\u001b[0;34m]\u001b[0m\u001b[0;34m\u001b[0m\u001b[0;34m\u001b[0m\u001b[0m\n\u001b[0;32m-> 6259\u001b[0;31m             \u001b[0mk\u001b[0m \u001b[0;34m=\u001b[0m \u001b[0mself\u001b[0m\u001b[0;34m.\u001b[0m\u001b[0m_get_label_or_level_values\u001b[0m\u001b[0;34m(\u001b[0m\u001b[0mby\u001b[0m\u001b[0;34m,\u001b[0m \u001b[0maxis\u001b[0m\u001b[0;34m=\u001b[0m\u001b[0maxis\u001b[0m\u001b[0;34m)\u001b[0m\u001b[0;34m\u001b[0m\u001b[0;34m\u001b[0m\u001b[0m\n\u001b[0m\u001b[1;32m   6260\u001b[0m \u001b[0;34m\u001b[0m\u001b[0m\n\u001b[1;32m   6261\u001b[0m             \u001b[0;31m# need to rewrap column in Series to apply key function\u001b[0m\u001b[0;34m\u001b[0m\u001b[0;34m\u001b[0m\u001b[0;34m\u001b[0m\u001b[0m\n",
      "\u001b[0;32m~/anaconda3/lib/python3.8/site-packages/pandas/core/generic.py\u001b[0m in \u001b[0;36m_get_label_or_level_values\u001b[0;34m(self, key, axis)\u001b[0m\n\u001b[1;32m   1777\u001b[0m             \u001b[0mvalues\u001b[0m \u001b[0;34m=\u001b[0m \u001b[0mself\u001b[0m\u001b[0;34m.\u001b[0m\u001b[0maxes\u001b[0m\u001b[0;34m[\u001b[0m\u001b[0maxis\u001b[0m\u001b[0;34m]\u001b[0m\u001b[0;34m.\u001b[0m\u001b[0mget_level_values\u001b[0m\u001b[0;34m(\u001b[0m\u001b[0mkey\u001b[0m\u001b[0;34m)\u001b[0m\u001b[0;34m.\u001b[0m\u001b[0m_values\u001b[0m\u001b[0;34m\u001b[0m\u001b[0;34m\u001b[0m\u001b[0m\n\u001b[1;32m   1778\u001b[0m         \u001b[0;32melse\u001b[0m\u001b[0;34m:\u001b[0m\u001b[0;34m\u001b[0m\u001b[0;34m\u001b[0m\u001b[0m\n\u001b[0;32m-> 1779\u001b[0;31m             \u001b[0;32mraise\u001b[0m \u001b[0mKeyError\u001b[0m\u001b[0;34m(\u001b[0m\u001b[0mkey\u001b[0m\u001b[0;34m)\u001b[0m\u001b[0;34m\u001b[0m\u001b[0;34m\u001b[0m\u001b[0m\n\u001b[0m\u001b[1;32m   1780\u001b[0m \u001b[0;34m\u001b[0m\u001b[0m\n\u001b[1;32m   1781\u001b[0m         \u001b[0;31m# Check for duplicates\u001b[0m\u001b[0;34m\u001b[0m\u001b[0;34m\u001b[0m\u001b[0;34m\u001b[0m\u001b[0m\n",
      "\u001b[0;31mKeyError\u001b[0m: 'size'"
     ]
    }
   ],
   "metadata": {}
  },
  {
   "cell_type": "code",
   "execution_count": null,
   "source": [
    "#TODO:"
   ],
   "outputs": [],
   "metadata": {}
  },
  {
   "cell_type": "code",
   "execution_count": null,
   "source": [
    "# Level 2: FRP\n",
    "\n",
    "# This querry will look for products from the Sentinel 3A and 3B satelite S3_, from level 2, FRP__ data, a year to reduce the output and a wildcard *\n",
    "products = api.query(platformname = 'Sentinel-3',\n",
    "                     filename='S3__SL_2_FRP____2021*')\n",
    "\n",
    "# We will use sort according to size and then download the first dataset that is not in the Long Term Archive (These must be requested 30 min in advance)\n",
    "try:\n",
    "    df = api.to_dataframe(products).sort_values(['size'], ascending=[True])\n",
    "except:\n",
    "    df = api.to_dataframe(products).sort_values(['size'], ascending=[True])\n",
    "    print('Size not specified')\n",
    "for i in range(len(df)):\n",
    "    #Check if resource is online\n",
    "    if api.is_online('{}'.format(df.index[i])):\n",
    "        api.download('{}'.format(df.index[i]))\n",
    "        #And break the i loop\n",
    "        break\n",
    "    else: pass\n",
    "\n",
    "print('The File Name is {}'.format(df.iloc[i]['filename']))"
   ],
   "outputs": [],
   "metadata": {}
  },
  {
   "cell_type": "code",
   "execution_count": null,
   "source": [
    "#TODO:"
   ],
   "outputs": [],
   "metadata": {}
  },
  {
   "cell_type": "code",
   "execution_count": null,
   "source": [
    "# Level 2: AOP\n",
    "\n",
    "# This querry will look for products from the Sentinel 3A and 3B satelite S3_, from level 2, FRP__ data, a year to reduce the output and a wildcard *\n",
    "products = api.query(platformname = 'Sentinel-3',\n",
    "                     filename='S3__SL_2_AOP____2021*')\n",
    "\n",
    "# We will use sort according to size and then download the first dataset that is not in the Long Term Archive (These must be requested 30 min in advance)\n",
    "try:\n",
    "    df = api.to_dataframe(products).sort_values(['size'], ascending=[True])\n",
    "except:\n",
    "    df = api.to_dataframe(products).sort_values(['size'], ascending=[True])\n",
    "    print('Size not specified')\n",
    "for i in range(len(df)):\n",
    "    #Check if resource is online\n",
    "    if api.is_online('{}'.format(df.index[i])):\n",
    "        api.download('{}'.format(df.index[i]))\n",
    "        #And break the i loop\n",
    "        break\n",
    "    else: pass\n",
    "\n",
    "print('The File Name is {}'.format(df.iloc[i]['filename']))"
   ],
   "outputs": [],
   "metadata": {}
  },
  {
   "cell_type": "code",
   "execution_count": null,
   "source": [
    "#TODO:"
   ],
   "outputs": [],
   "metadata": {}
  },
  {
   "cell_type": "markdown",
   "source": [
    "## Sentinel 3 Synergy\n",
    "\n",
    "- Level 2:\n",
    "    - SY_2_SYN__: Surface reflectance and aerosol parameters over land\n",
    "    - SY_2_VGP__: 1km Vegetation Like Product and Top of Atmosphere refelctance\n",
    "    - SY_2_V10__: 1km Vegetation Like Product 10 day synthesis surface reflectance and NDVI\n",
    "    - SY_2_AOD__: Global Aerosol parameter over land and sea on super pixel resolution (4.5km x 4.5km)\n"
   ],
   "metadata": {}
  },
  {
   "cell_type": "code",
   "execution_count": null,
   "source": [
    "# Level 2: SY_2_SYN__\n",
    "\n",
    "# This querry will look for products from the Sentinel 3A and 3B satelite S3_, from level 2, SYN__ data, a year to reduce the output and a wildcard *\n",
    "products = api.query(platformname = 'Sentinel-3',\n",
    "                     filename='S3__SY_2_SYN____2021*')\n",
    "\n",
    "# We will use sort according to size and then download the first dataset that is not in the Long Term Archive (These must be requested 30 min in advance)\n",
    "try:\n",
    "    df = api.to_dataframe(products).sort_values(['size'], ascending=[True])\n",
    "except:\n",
    "    df = api.to_dataframe(products).sort_values(['size'], ascending=[True])\n",
    "    print('Size not specified')\n",
    "for i in range(len(df)):\n",
    "    #Check if resource is online\n",
    "    if api.is_online('{}'.format(df.index[i])):\n",
    "        api.download('{}'.format(df.index[i]))\n",
    "        #And break the i loop\n",
    "        break\n",
    "    else: pass\n",
    "\n",
    "print('The File Name is {}'.format(df.iloc[i]['filename']))"
   ],
   "outputs": [],
   "metadata": {}
  },
  {
   "cell_type": "code",
   "execution_count": 14,
   "source": [
    "#TODO:"
   ],
   "outputs": [],
   "metadata": {}
  },
  {
   "cell_type": "code",
   "execution_count": null,
   "source": [
    "# Level 2: SY_2_VGP__\n",
    "\n",
    "# This querry will look for products from the Sentinel 3A and 3B satelite S3_, from level 2, VGP__ data, a year to reduce the output and a wildcard *\n",
    "products = api.query(platformname = 'Sentinel-3',\n",
    "                     filename='S3__SY_2_VGP____2021*')\n",
    "\n",
    "# We will use sort according to size and then download the first dataset that is not in the Long Term Archive (These must be requested 30 min in advance)\n",
    "try:\n",
    "    df = api.to_dataframe(products).sort_values(['size'], ascending=[True])\n",
    "except:\n",
    "    df = api.to_dataframe(products).sort_values(['size'], ascending=[True])\n",
    "    print('Size not specified')\n",
    "for i in range(len(df)):\n",
    "    #Check if resource is online\n",
    "    if api.is_online('{}'.format(df.index[i])):\n",
    "        api.download('{}'.format(df.index[i]))\n",
    "        #And break the i loop\n",
    "        break\n",
    "    else: pass\n",
    "\n",
    "print('The File Name is {}'.format(df.iloc[i]['filename']))"
   ],
   "outputs": [],
   "metadata": {}
  },
  {
   "cell_type": "code",
   "execution_count": null,
   "source": [
    "#TODO:"
   ],
   "outputs": [],
   "metadata": {}
  },
  {
   "cell_type": "code",
   "execution_count": null,
   "source": [
    "# Level 2: SY_2_V10__\n",
    "\n",
    "# This querry will look for products from the Sentinel 3A and 3B satelite S3_, from level 2, V10__ data, a year to reduce the output and a wildcard *\n",
    "products = api.query(platformname = 'Sentinel-3',\n",
    "                     filename='S3__SY_2_V10____2021*')\n",
    "\n",
    "# We will use sort according to size and then download the first dataset that is not in the Long Term Archive (These must be requested 30 min in advance)\n",
    "try:\n",
    "    df = api.to_dataframe(products).sort_values(['size'], ascending=[True])\n",
    "except:\n",
    "    df = api.to_dataframe(products).sort_values(['size'], ascending=[True])\n",
    "    print('Size not specified')\n",
    "for i in range(len(df)):\n",
    "    #Check if resource is online\n",
    "    if api.is_online('{}'.format(df.index[i])):\n",
    "        api.download('{}'.format(df.index[i]))\n",
    "        #And break the i loop\n",
    "        break\n",
    "    else: pass\n",
    "\n",
    "print('The File Name is {}'.format(df.iloc[i]['filename']))"
   ],
   "outputs": [],
   "metadata": {}
  },
  {
   "cell_type": "code",
   "execution_count": null,
   "source": [
    "#TODO:"
   ],
   "outputs": [],
   "metadata": {}
  },
  {
   "cell_type": "code",
   "execution_count": null,
   "source": [
    "# Level 2: SY_2_AOD__\n",
    "\n",
    "# This querry will look for products from the Sentinel 3A and 3B satelite S3_, from level 2, AOD__ data, a year to reduce the output and a wildcard *\n",
    "products = api.query(platformname = 'Sentinel-3',\n",
    "                     filename='S3__SY_2_AOD____2021*')\n",
    "\n",
    "# We will use sort according to size and then download the first dataset that is not in the Long Term Archive (These must be requested 30 min in advance)\n",
    "try:\n",
    "    df = api.to_dataframe(products).sort_values(['size'], ascending=[True])\n",
    "except:\n",
    "    df = api.to_dataframe(products).sort_values(['size'], ascending=[True])\n",
    "    print('Size not specified')\n",
    "for i in range(len(df)):\n",
    "    #Check if resource is online\n",
    "    if api.is_online('{}'.format(df.index[i])):\n",
    "        api.download('{}'.format(df.index[i]))\n",
    "        #And break the i loop\n",
    "        break\n",
    "    else: pass\n",
    "\n",
    "print('The File Name is {}'.format(df.iloc[i]['filename']))"
   ],
   "outputs": [],
   "metadata": {}
  },
  {
   "cell_type": "code",
   "execution_count": null,
   "source": [
    "#TODO:"
   ],
   "outputs": [],
   "metadata": {}
  },
  {
   "cell_type": "markdown",
   "source": [
    "## Sentinel-3 Altimetry\n",
    "\n",
    "- Level 1A: geo-located bursts of echo with callibrations applied\n",
    "- Level 1B: geo-located and fully calibrated multi-looked High Resolution power echoes\n",
    "- Level 1B-S: SAR processed and calibrated High resolution complex echoes arranged in stacks after slant range correction and prior to echo multi-look\n",
    "- Level 2: SRAL/MWR"
   ],
   "metadata": {}
  },
  {
   "cell_type": "code",
   "execution_count": null,
   "source": [
    "# Level 1\n",
    "\n",
    "# This querry will look for products from the Sentinel 3A and 3B satelite S3_, from level 1, SRA__ for LRM, SAR Ku and SAR C products, a year to reduce the output and a wildcard *,\n",
    "# here we can also specify which product generating center was used, we will withdraw the marine data with MAR at the correct indexer \n",
    "products = api.query(platformname = 'Sentinel-3',\n",
    "                     filename='S3__SS_1_AOD____2021*_*_*_*_MAR_*')\n",
    "\n",
    "# We will use sort according to size and then download the first dataset that is not in the Long Term Archive (These must be requested 30 min in advance)\n",
    "try:\n",
    "    df = api.to_dataframe(products).sort_values(['size'], ascending=[True])\n",
    "except:\n",
    "    df = api.to_dataframe(products).sort_values(['size'], ascending=[True])\n",
    "    print('Size not specified')\n",
    "for i in range(len(df)):\n",
    "    #Check if resource is online\n",
    "    if api.is_online('{}'.format(df.index[i])):\n",
    "        api.download('{}'.format(df.index[i]))\n",
    "        #And break the i loop\n",
    "        break\n",
    "    else: pass\n",
    "\n",
    "print('The File Name is {}'.format(df.iloc[i]['filename']))"
   ],
   "outputs": [],
   "metadata": {}
  },
  {
   "cell_type": "code",
   "execution_count": null,
   "source": [
    "#TODO:"
   ],
   "outputs": [],
   "metadata": {}
  },
  {
   "cell_type": "code",
   "execution_count": null,
   "source": [
    "#Level 2\n",
    "\n",
    "# This querry will look for products from the Sentinel 3A and 3B satelite S3_, from level 2, LAN__ for SRAL land products, a year to reduce the output and a wildcard *,\n",
    "products = api.query(platformname = 'Sentinel-3',\n",
    "                     filename='S3__SS_2_SRA____2021*')\n",
    "\n",
    "# We will use sort according to size and then download the first dataset that is not in the Long Term Archive (These must be requested 30 min in advance)\n",
    "try:\n",
    "    df = api.to_dataframe(products).sort_values(['size'], ascending=[True])\n",
    "except:\n",
    "    df = api.to_dataframe(products).sort_values(['size'], ascending=[True])\n",
    "    print('Size not specified')\n",
    "for i in range(len(df)):\n",
    "    #Check if resource is online\n",
    "    if api.is_online('{}'.format(df.index[i])):\n",
    "        api.download('{}'.format(df.index[i]))\n",
    "        #And break the i loop\n",
    "        break\n",
    "    else: pass\n",
    "\n",
    "print('The File Name is {}'.format(df.iloc[i]['filename']))\n"
   ],
   "outputs": [],
   "metadata": {}
  },
  {
   "cell_type": "code",
   "execution_count": null,
   "source": [
    "#TODO:"
   ],
   "outputs": [],
   "metadata": {}
  },
  {
   "cell_type": "code",
   "execution_count": null,
   "source": [],
   "outputs": [],
   "metadata": {}
  }
 ],
 "metadata": {
  "orig_nbformat": 4,
  "language_info": {
   "name": "python",
   "version": "3.8.8",
   "mimetype": "text/x-python",
   "codemirror_mode": {
    "name": "ipython",
    "version": 3
   },
   "pygments_lexer": "ipython3",
   "nbconvert_exporter": "python",
   "file_extension": ".py"
  },
  "kernelspec": {
   "name": "python3",
   "display_name": "Python 3.8.8 64-bit ('base': conda)"
  },
  "interpreter": {
   "hash": "64ad0ea8d629f00d8168fc91b44a5de2d94c414bf842e4bc86698867624ffac1"
  }
 },
 "nbformat": 4,
 "nbformat_minor": 2
}